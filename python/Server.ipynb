{
 "cells": [
  {
   "cell_type": "code",
   "execution_count": null,
   "metadata": {},
   "outputs": [],
   "source": [
    "# https://realpython.com/python-sockets/#tcp-sockets\n",
    "# https://techtutorialsx.com/2018/05/17/esp32-arduino-sending-data-with-socket-client/\n",
    "\n",
    "import socket\n",
    "\n",
    "# HOST = \"127.0.0.1\"  # Standard loopback interface address (localhost)\n",
    "# PORT = 65432  # Port to listen on (non-privileged ports are > 1023)\n",
    "\n",
    "HOST = \"192.168.4.102\" \n",
    "PORT = 8090\n",
    "\n",
    "while True:\n",
    "\n",
    "    with socket.socket(socket.AF_INET, socket.SOCK_STREAM) as s:\n",
    "        s.bind((HOST, PORT))\n",
    "        s.listen()\n",
    "        conn, addr = s.accept()\n",
    "        with conn:\n",
    "            print(f\"Connected by {addr}\")\n",
    "            while True:\n",
    "                data = conn.recv(1024)\n",
    "                if not data:\n",
    "                    break\n",
    "                # conn.sendall(data)\n",
    "                print(data)\n",
    "                print(\" \")"
   ]
  }
 ],
 "metadata": {
  "kernelspec": {
   "display_name": "Python 3",
   "language": "python",
   "name": "python3"
  },
  "language_info": {
   "codemirror_mode": {
    "name": "ipython",
    "version": 3
   },
   "file_extension": ".py",
   "mimetype": "text/x-python",
   "name": "python",
   "nbconvert_exporter": "python",
   "pygments_lexer": "ipython3",
   "version": "3.10.6"
  },
  "orig_nbformat": 4,
  "vscode": {
   "interpreter": {
    "hash": "851e5d85b00d87746c91ffd2e467490f5a5752fb8cf07f02e24eb16fa6f8dc87"
   }
  }
 },
 "nbformat": 4,
 "nbformat_minor": 2
}

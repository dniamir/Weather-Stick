{
 "cells": [
  {
   "cell_type": "code",
   "execution_count": 3,
   "metadata": {},
   "outputs": [
    {
     "name": "stdout",
     "output_type": "stream",
     "text": [
      "Received b'Hello, world'\n"
     ]
    }
   ],
   "source": [
    "# https://realpython.com/python-sockets/#tcp-sockets\n",
    "# https://techtutorialsx.com/2018/05/17/esp32-arduino-sending-data-with-socket-client/\n",
    "\n",
    "import socket\n",
    "\n",
    "HOST = \"127.0.0.1\"  # The server's hostname or IP address\n",
    "PORT = 65432  # The port used by the server\n",
    "\n",
    "with socket.socket(socket.AF_INET, socket.SOCK_STREAM) as s:\n",
    "    s.connect((HOST, PORT))\n",
    "    s.sendall(b\"Hello, world\")\n",
    "    data = s.recv(1024)\n",
    "\n",
    "print(f\"Received {data!r}\")"
   ]
  }
 ],
 "metadata": {
  "kernelspec": {
   "display_name": "env",
   "language": "python",
   "name": "python3"
  },
  "language_info": {
   "codemirror_mode": {
    "name": "ipython",
    "version": 3
   },
   "file_extension": ".py",
   "mimetype": "text/x-python",
   "name": "python",
   "nbconvert_exporter": "python",
   "pygments_lexer": "ipython3",
   "version": "3.10.6"
  },
  "orig_nbformat": 4,
  "vscode": {
   "interpreter": {
    "hash": "07e5293419e9366d43fd4c21be4974ee8eeca803ce9d4ecba435428064f8c804"
   }
  }
 },
 "nbformat": 4,
 "nbformat_minor": 2
}

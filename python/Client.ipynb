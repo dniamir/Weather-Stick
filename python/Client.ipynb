{
 "cells": [
  {
   "cell_type": "code",
   "execution_count": 16,
   "metadata": {},
   "outputs": [],
   "source": [
    "# https://realpython.com/python-sockets/#tcp-sockets\n",
    "# https://techtutorialsx.com/2018/05/17/esp32-arduino-sending-data-with-socket-client/\n",
    "\n",
    "import socket\n",
    "\n",
    "HOST = \"192.168.4.102\"  # The server's hostname or IP address\n",
    "PORT = 8090  # The port used by the server\n",
    "\n",
    "with socket.socket(socket.AF_INET, socket.SOCK_STREAM) as s:\n",
    "    s.connect((HOST, PORT))\n",
    "    s.sendall(b\"Hello, world\")\n",
    "#     data = s.recv(1024)\n",
    "\n",
    "# print(f\"Received {data!r}\")"
   ]
  },
  {
   "cell_type": "code",
   "execution_count": 1,
   "metadata": {},
   "outputs": [
    {
     "name": "stdout",
     "output_type": "stream",
     "text": [
      "Connected by ('192.168.6.172', 52477)\n",
      "b'SOT, 988, 21, 55, 0, 0, 0, 15775, 99458, 60091, 10446, 375, 100, 1585, 4, EOT'\n",
      " \n",
      "Connected by ('192.168.6.172', 52478)\n",
      "b'SOT, 987, 21, 55, 0, 0, 0, 15778, 99458, 60063, 10475, 375, 100, 1585, 4, EOT'\n",
      " \n",
      "Connected by ('192.168.6.172', 52479)\n",
      "b'SOT, 1050, 21, 55, 0, 0, 0, 15778, 99458, 60070, 10475, 375, 100, 1586, 4, EOT'\n",
      " \n",
      "Connected by ('192.168.6.172', 52480)\n",
      "b'SOT, 977, 21, 55, 0, 0, 0, 15780, 99458, 60027, 10495, 375, 100, 1587, 4, EOT'\n",
      " \n",
      "Connected by ('192.168.6.172', 52481)\n",
      "b'SOT, 995, 21, 55, 0, 0, 0, 15781, 99458, 60050, 10514, 375, 100, 1587, 4, EOT'\n",
      " \n",
      "Connected by ('192.168.6.172', 52482)\n",
      "b'SOT, 1005, 21, 55, 0, 0, 0, 15781, 99456, 60058, 10554, 375, 100, 1588, 4, EOT'\n",
      " \n",
      "Connected by ('192.168.6.172', 52483)\n",
      "b'SOT, 990, 21, 55, 0, 0, 0, 15781, 99458, 60058, 10554, 375, 100, 1588, 4, EOT'\n",
      " \n",
      "Connected by ('192.168.6.172', 52484)\n",
      "b'SOT, 1024, 21, 55, 0, 0, 0, 15781, 99456, 60043, 10574, 375, 100, 1589, 4, EOT'\n",
      " \n",
      "Connected by ('192.168.6.172', 52485)\n",
      "b'SOT, 1002, 21, 55, 0, 0, 0, 15781, 99460, 60014, 10574, 375, 100, 1590, 4, EOT'\n",
      " \n",
      "Connected by ('192.168.6.172', 52486)\n",
      "b'SOT, 1013, 21, 55, 0, 0, 0, 15780, 99460, 59997, 10604, 370, 100, 1590, 4, EOT'\n",
      " \n",
      "Connected by ('192.168.6.172', 52487)\n",
      "b'SOT, 977, 21, 55, 0, 0, 0, 15779, 99462, 60034, 10594, 375, 100, 1591, 4, EOT'\n",
      " \n",
      "Connected by ('192.168.6.172', 52488)\n",
      "b'SOT, 965, 21, 55, 0, 0, 0, 15778, 99462, 60055, 10654, 375, 99, 1590, 4, EOT'\n",
      " \n",
      "Connected by ('192.168.6.172', 52489)\n",
      "b'SOT, 989, 21, 55, 0, 0, 0, 15779, 99462, 60041, 10665, 375, 99, 1590, 4, EOT'\n",
      " \n",
      "Connected by ('192.168.6.172', 52490)\n",
      "b'SOT, 998, 21, 55, 0, 0, 0, 15778, 99464, 60085, 10654, 375, 99, 1589, 4, EOT'\n",
      " \n",
      "Connected by ('192.168.6.172', 52491)\n",
      "b'SOT, 943, 21, 55, 0, 0, 0, 15779, 99462, 59961, 10675, 370, 99, 1588, 4, EOT'\n",
      " \n",
      "Connected by ('192.168.6.172', 52492)\n",
      "b'SOT, 992, 21, 55, 0, 0, 0, 15779, 99460, 60055, 10665, 375, 99, 1587, 4, EOT'\n",
      " \n",
      "Connected by ('192.168.6.172', 52493)\n",
      "b'SOT, 976, 21, 55, 0, 0, 0, 15781, 99460, 59978, 10716, 370, 99, 1587, 4, EOT'\n",
      " \n",
      "Connected by ('192.168.6.172', 52494)\n",
      "b'SOT, 989, 21, 55, 0, 0, 0, 15780, 99458, 60078, 10736, 375, 99, 1586, 4, EOT'\n",
      " \n",
      "Connected by ('192.168.6.172', 52495)\n",
      "b'SOT, 999, 21, 55, 0, 0, 0, 15780, 99458, 60282, 10767, 375, 99, 1585, 4, EOT'\n",
      " \n",
      "Connected by ('192.168.6.172', 52496)\n",
      "b'SOT, 1010, 21, 55, 0, 0, 0, 15779, 99458, 60172, 10767, 375, 99, 1584, 4, EOT'\n",
      " \n",
      "Connected by ('192.168.6.172', 52497)\n",
      "b'SOT, 979, 21, 55, 0, 0, 0, 15779, 99458, 60048, 10747, 375, 99, 1584, 4, EOT'\n",
      " \n",
      "Connected by ('192.168.6.172', 52498)\n",
      "b'SOT, 1002, 21, 55, 0, 0, 0, 15780, 99456, 60129, 10778, 375, 99, 1583, 4, EOT'\n",
      " \n",
      "Connected by ('192.168.6.172', 52499)\n"
     ]
    }
   ],
   "source": [
    "# https://realpython.com/python-sockets/#tcp-sockets\n",
    "# https://techtutorialsx.com/2018/05/17/esp32-arduino-sending-data-with-socket-client/\n",
    "\n",
    "import socket\n",
    "\n",
    "HOST = \"192.168.4.102\"  # Standard loopback interface address (localhost)\n",
    "PORT = 8090  # Port to listen on (non-privileged ports are > 1023)\n",
    "\n",
    "while True:\n",
    "\n",
    "    with socket.socket(socket.AF_INET, socket.SOCK_STREAM) as s:\n",
    "        s.bind((HOST, PORT))\n",
    "        s.listen()\n",
    "        conn, addr = s.accept()\n",
    "        with conn:\n",
    "            print(f\"Connected by {addr}\")\n",
    "            while True:\n",
    "                data = conn.recv(1024)\n",
    "                if not data:\n",
    "                    break\n",
    "                print(data)\n",
    "    print(\" \")"
   ]
  }
 ],
 "metadata": {
  "kernelspec": {
   "display_name": "Python 3.10.10 64-bit",
   "language": "python",
   "name": "python3"
  },
  "language_info": {
   "codemirror_mode": {
    "name": "ipython",
    "version": 3
   },
   "file_extension": ".py",
   "mimetype": "text/x-python",
   "name": "python",
   "nbconvert_exporter": "python",
   "pygments_lexer": "ipython3",
   "version": "3.10.6"
  },
  "orig_nbformat": 4,
  "vscode": {
   "interpreter": {
    "hash": "aee8b7b246df8f9039afb4144a1f6fd8d2ca17a180786b69acc140d282b71a49"
   }
  }
 },
 "nbformat": 4,
 "nbformat_minor": 2
}
